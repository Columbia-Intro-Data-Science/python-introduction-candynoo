{
 "cells": [
  {
   "cell_type": "raw",
   "metadata": {},
   "source": [
    "1. Give a count of all videos currently out.\n",
    "\n",
    "select count(*)\n",
    "from rental\n",
    "where return_date is null"
   ]
  },
  {
   "cell_type": "raw",
   "metadata": {},
   "source": [
    "2. Make a list of all customer names who have videos out and how much they owe.\n",
    "\n",
    "SELECT rental.customer_id, customer.first_name, customer.last_name,count(*)\n",
    "FROM rental\n",
    "JOIN customer ON rental.customer_id=customer.customer_id\n",
    "group by rental.customer_id,customer.first_name,customer.last_name"
   ]
  },
  {
   "cell_type": "raw",
   "metadata": {},
   "source": [
    "3.Give the most popular actors by store location.\n",
    "\n",
    "\n",
    "from location 1:\n",
    "\n",
    "SELECT inventory.store_id,film_actor.actor_id,actor.first_name,actor.last_name,count(*) \n",
    "FROM rental\n",
    "JOIN inventory ON rental.inventory_id=inventory.inventory_id\n",
    "join film_actor on inventory.film_id=film_actor.film_id\n",
    "join actor on film_actor.actor_id=actor.actor_id\n",
    "where inventory.store_id=1\n",
    "group by inventory.store_id,film_actor.actor_id,actor.first_name,actor.last_name\n",
    "order by count(*) desc limit 1\n",
    "\n",
    "\n",
    "from location 2:\n",
    "\n",
    "SELECT inventory.store_id,film_actor.actor_id,actor.first_name,actor.last_name,count(*) \n",
    "FROM rental\n",
    "JOIN inventory ON rental.inventory_id=inventory.inventory_id\n",
    "join film_actor on inventory.film_id=film_actor.film_id\n",
    "join actor on film_actor.actor_id=actor.actor_id\n",
    "where inventory.store_id=2\n",
    "group by inventory.store_id,film_actor.actor_id,actor.first_name,actor.last_name\n",
    "order by count(*) desc limit 1\n"
   ]
  },
  {
   "cell_type": "markdown",
   "metadata": {},
   "source": [
    "5.What hour of the day do people rent most?\n",
    "\n",
    "SELECT extract(hour FROM rental_date),count(*)\n",
    "FROM rental\n",
    "group by extract(hour FROM rental_date)\n",
    "order by count(*) desc limit 1\n",
    "\n",
    "\n",
    "\n",
    "\n"
   ]
  },
  {
   "cell_type": "markdown",
   "metadata": {},
   "source": []
  }
 ],
 "metadata": {
  "kernelspec": {
   "display_name": "Python 3",
   "language": "python",
   "name": "python3"
  },
  "language_info": {
   "codemirror_mode": {
    "name": "ipython",
    "version": 3
   },
   "file_extension": ".py",
   "mimetype": "text/x-python",
   "name": "python",
   "nbconvert_exporter": "python",
   "pygments_lexer": "ipython3",
   "version": "3.6.0"
  }
 },
 "nbformat": 4,
 "nbformat_minor": 2
}
